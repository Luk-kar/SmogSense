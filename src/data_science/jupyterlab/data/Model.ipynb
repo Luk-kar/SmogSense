{
 "cells": [
  {
   "cell_type": "code",
   "execution_count": 1,
   "id": "b1b17086-5f2d-4b27-bd09-53af96a632bf",
   "metadata": {},
   "outputs": [],
   "source": [
    "# Python\n",
    "import os\n",
    "import re  \n",
    "\n",
    "# Connection to the DB\n",
    "from sqlalchemy import create_engine\n",
    "\n",
    "# Data handling and text preprocessing  \n",
    "import pandas as pd  \n",
    "\n",
    "# Machine learning and feature extraction  \n",
    "from sklearn.model_selection import train_test_split\n",
    "from sklearn.feature_extraction.text import TfidfVectorizer  \n",
    "from sklearn.ensemble import RandomForestRegressor  \n",
    "from sklearn.metrics import mean_squared_error"
   ]
  },
  {
   "cell_type": "code",
   "execution_count": 2,
   "id": "ee160acb-f665-4df0-b319-7ee9e6661ecb",
   "metadata": {},
   "outputs": [
    {
     "name": "stdout",
     "output_type": "stream",
     "text": [
      "\n",
      "    USER: postgres\n",
      "    PASSWORD: password123\n",
      "    DATABASE: smogsense\n",
      "    HOST: postgres\n",
      "    HOST_PORT: 5432\n",
      "    \n"
     ]
    }
   ],
   "source": [
    "USER = os.getenv('POSTGRES_USER')\n",
    "PASSWORD = os.getenv('POSTGRES_PASSWORD')\n",
    "DATABASE = os.getenv('POSTGRES_WAREHOUSE_DB')\n",
    "HOST = os.getenv('POSTGRES_HOST')\n",
    "HOST_PORT = os.getenv('POSTGRES_PORT')\n",
    "\n",
    "print(\n",
    "    f\"\"\"\n",
    "    USER: {USER}\n",
    "    PASSWORD: {PASSWORD}\n",
    "    DATABASE: {DATABASE}\n",
    "    HOST: {HOST}\n",
    "    HOST_PORT: {HOST_PORT}\n",
    "    \"\"\"\n",
    ")"
   ]
  },
  {
   "cell_type": "code",
   "execution_count": 3,
   "id": "d535095b-31fd-4b6f-9c5d-454c7a4c3ab6",
   "metadata": {},
   "outputs": [],
   "source": [
    "db_address = f'postgresql://{USER}:{PASSWORD}@{HOST}:{HOST_PORT}/{DATABASE}'\n",
    "conn = create_engine(db_address)"
   ]
  },
  {
   "cell_type": "code",
   "execution_count": 4,
   "id": "a67a8cf3-0202-4a96-8563-ff2f0990116b",
   "metadata": {},
   "outputs": [],
   "source": [
    "# --- Data Extraction ---\n",
    "# SQL query: join tweets with their engagement metrics\n",
    "query = \"\"\"\n",
    "SELECT t.text, \n",
    "       e.like_count, \n",
    "       e.retweet_count, \n",
    "       e.quote_count, \n",
    "       e.reply_count, \n",
    "       e.view_count\n",
    "FROM social_media_dim.tweet t\n",
    "JOIN social_media_dim.engagement e ON t.id_tweet = e.id_tweet\n",
    "\"\"\"\n",
    "df = pd.read_sql(query, conn)"
   ]
  },
  {
   "cell_type": "code",
   "execution_count": 5,
   "id": "c842e910-069e-4a19-90de-2a0393faa066",
   "metadata": {},
   "outputs": [],
   "source": [
    "# Define the engagement calculation function\n",
    "def calculate_engagement(row):\n",
    "    \"\"\"\n",
    "    Calculate a weighted engagement score for a given row of tweet data.\n",
    "    \n",
    "    Parameters:\n",
    "        row (pd.Series): A row of the DataFrame containing tweet metrics.\n",
    "    \n",
    "    Returns:\n",
    "        float: The weighted engagement score.\n",
    "    \"\"\"\n",
    "    return (\n",
    "        row['like_count'] * 1 +          # Basic approval (lowest weight)\n",
    "        row['retweet_count'] * 5 +        # Amplification through sharing\n",
    "        row['quote_count'] * 10 +         # Highest value - adds commentary & reach\n",
    "        row['reply_count'] * 3 +          # Direct conversation engagement\n",
    "        row['view_count'] * 0.001         # Passive impression (minimal weight)\n",
    "    )\n",
    "\n",
    "# Apply the function to the DataFrame\n",
    "df['engagement'] = df.apply(calculate_engagement, axis=1)"
   ]
  },
  {
   "cell_type": "code",
   "execution_count": 6,
   "id": "f0b30812-d0ee-4d48-86c9-76a375ec502f",
   "metadata": {},
   "outputs": [
    {
     "data": {
      "text/html": [
       "<div>\n",
       "<style scoped>\n",
       "    .dataframe tbody tr th:only-of-type {\n",
       "        vertical-align: middle;\n",
       "    }\n",
       "\n",
       "    .dataframe tbody tr th {\n",
       "        vertical-align: top;\n",
       "    }\n",
       "\n",
       "    .dataframe thead th {\n",
       "        text-align: right;\n",
       "    }\n",
       "</style>\n",
       "<table border=\"1\" class=\"dataframe\">\n",
       "  <thead>\n",
       "    <tr style=\"text-align: right;\">\n",
       "      <th></th>\n",
       "      <th>text</th>\n",
       "      <th>like_count</th>\n",
       "      <th>retweet_count</th>\n",
       "      <th>quote_count</th>\n",
       "      <th>reply_count</th>\n",
       "      <th>view_count</th>\n",
       "      <th>engagement</th>\n",
       "    </tr>\n",
       "  </thead>\n",
       "  <tbody>\n",
       "    <tr>\n",
       "      <th>121</th>\n",
       "      <td>@Pawel_Lachman Mamy kryzys jakiejkolwiek formy...</td>\n",
       "      <td>4</td>\n",
       "      <td>1</td>\n",
       "      <td>0</td>\n",
       "      <td>1</td>\n",
       "      <td>194</td>\n",
       "      <td>12.194</td>\n",
       "    </tr>\n",
       "    <tr>\n",
       "      <th>45</th>\n",
       "      <td>\"...nasz inteligentny smog zatrzymuje się na g...</td>\n",
       "      <td>0</td>\n",
       "      <td>0</td>\n",
       "      <td>0</td>\n",
       "      <td>5</td>\n",
       "      <td>22</td>\n",
       "      <td>15.022</td>\n",
       "    </tr>\n",
       "    <tr>\n",
       "      <th>43</th>\n",
       "      <td>Trwa masakrowanie Europy #smog-iem przez Belgi...</td>\n",
       "      <td>1</td>\n",
       "      <td>3</td>\n",
       "      <td>1</td>\n",
       "      <td>0</td>\n",
       "      <td>196</td>\n",
       "      <td>26.196</td>\n",
       "    </tr>\n",
       "    <tr>\n",
       "      <th>1</th>\n",
       "      <td>Dlaczego auta elektryczne są dobre? Bo poprawi...</td>\n",
       "      <td>47</td>\n",
       "      <td>4</td>\n",
       "      <td>2</td>\n",
       "      <td>18</td>\n",
       "      <td>5262</td>\n",
       "      <td>146.262</td>\n",
       "    </tr>\n",
       "    <tr>\n",
       "      <th>53</th>\n",
       "      <td>Nowy Rok. Warszawa. \\nDla pasażerów transportu...</td>\n",
       "      <td>138</td>\n",
       "      <td>4</td>\n",
       "      <td>0</td>\n",
       "      <td>14</td>\n",
       "      <td>4210</td>\n",
       "      <td>204.210</td>\n",
       "    </tr>\n",
       "  </tbody>\n",
       "</table>\n",
       "</div>"
      ],
      "text/plain": [
       "                                                  text  like_count  \\\n",
       "121  @Pawel_Lachman Mamy kryzys jakiejkolwiek formy...           4   \n",
       "45   \"...nasz inteligentny smog zatrzymuje się na g...           0   \n",
       "43   Trwa masakrowanie Europy #smog-iem przez Belgi...           1   \n",
       "1    Dlaczego auta elektryczne są dobre? Bo poprawi...          47   \n",
       "53   Nowy Rok. Warszawa. \\nDla pasażerów transportu...         138   \n",
       "\n",
       "     retweet_count  quote_count  reply_count  view_count  engagement  \n",
       "121              1            0            1         194      12.194  \n",
       "45               0            0            5          22      15.022  \n",
       "43               3            1            0         196      26.196  \n",
       "1                4            2           18        5262     146.262  \n",
       "53               4            0           14        4210     204.210  "
      ]
     },
     "execution_count": 6,
     "metadata": {},
     "output_type": "execute_result"
    }
   ],
   "source": [
    "df.sample(5)"
   ]
  },
  {
   "cell_type": "code",
   "execution_count": 7,
   "id": "0bf7f807-4d87-487d-b3fb-5e5ae0967461",
   "metadata": {},
   "outputs": [
    {
     "name": "stdout",
     "output_type": "stream",
     "text": [
      "382\n"
     ]
    }
   ],
   "source": [
    "from user_code.stopwords import polish_stopwords\n",
    "print(len(polish_stopwords))"
   ]
  },
  {
   "cell_type": "code",
   "execution_count": 9,
   "id": "45ba6390-9575-4093-98cd-99dc4ac95e53",
   "metadata": {},
   "outputs": [],
   "source": [
    "# --- Text Preprocessing ---\n",
    "# Clean the tweet text: lowercase and remove punctuation\n",
    "df['cleaned_text'] = df['text'].apply(lambda x: re.sub(r'[^\\w\\s]', '', x.lower()))\n",
    "\n",
    "# --- Feature Extraction: TF-IDF Vectorization ---\n",
    "vectorizer = TfidfVectorizer(stop_words=polish_stopwords, max_features=5000)\n",
    "X = vectorizer.fit_transform(df['cleaned_text'])\n",
    "y = df['engagement']\n",
    "\n",
    "# --- Train/Test Split ---\n",
    "X_train, X_test, y_train, y_test = train_test_split(X, y, test_size=0.2, random_state=42)"
   ]
  },
  {
   "cell_type": "code",
   "execution_count": 12,
   "id": "130be422-d326-46af-be41-566de7496824",
   "metadata": {},
   "outputs": [
    {
     "data": {
      "text/plain": [
       "112"
      ]
     },
     "execution_count": 12,
     "metadata": {},
     "output_type": "execute_result"
    }
   ],
   "source": [
    "X_train.shape[0]"
   ]
  },
  {
   "cell_type": "code",
   "execution_count": 13,
   "id": "727d61b6-37a6-4caf-8c93-f5a41379e3ba",
   "metadata": {},
   "outputs": [
    {
     "data": {
      "text/plain": [
       "28"
      ]
     },
     "execution_count": 13,
     "metadata": {},
     "output_type": "execute_result"
    }
   ],
   "source": [
    "X_test.shape[0]"
   ]
  },
  {
   "cell_type": "code",
   "execution_count": 8,
   "id": "a8bc9c40-a15c-443e-af16-660c85bb5ec1",
   "metadata": {},
   "outputs": [
    {
     "name": "stdout",
     "output_type": "stream",
     "text": [
      "Mean Squared Error: 315518.88385155675\n",
      "Predicted Engagement: 4.102489999999996\n",
      "Engagement Bracket: Low\n"
     ]
    }
   ],
   "source": [
    "# --- Model Training: Regression ---\n",
    "model = RandomForestRegressor(n_estimators=100, random_state=42)\n",
    "model.fit(X_train, y_train)\n",
    "\n",
    "# --- Model Evaluation ---\n",
    "y_pred = model.predict(X_test)\n",
    "mse = mean_squared_error(y_test, y_pred)\n",
    "print(\"Mean Squared Error:\", mse)\n",
    "\n",
    "# --- Define Engagement Brackets ---\n",
    "def categorize_engagement(engagement_score):\n",
    "    if engagement_score < 100:\n",
    "        return \"Low\"\n",
    "    elif 100 <= engagement_score < 500:\n",
    "        return \"Medium\"\n",
    "    else:\n",
    "        return \"High\"\n",
    "\n",
    "# --- Example Prediction ---\n",
    "sample_tweet = \"Krakowska maszyna do produkcji smogu! Szczotki powietrza w akcji.\"\n",
    "sample_cleaned = re.sub(r'[^\\w\\s]', '', sample_tweet.lower())\n",
    "sample_vector = vectorizer.transform([sample_cleaned])\n",
    "predicted_engagement = model.predict(sample_vector)[0]\n",
    "engagement_bracket = categorize_engagement(predicted_engagement)\n",
    "\n",
    "print(\"Predicted Engagement:\", predicted_engagement)\n",
    "print(\"Engagement Bracket:\", engagement_bracket)"
   ]
  }
 ],
 "metadata": {
  "kernelspec": {
   "display_name": "Python 3 (ipykernel)",
   "language": "python",
   "name": "python3"
  },
  "language_info": {
   "codemirror_mode": {
    "name": "ipython",
    "version": 3
   },
   "file_extension": ".py",
   "mimetype": "text/x-python",
   "name": "python",
   "nbconvert_exporter": "python",
   "pygments_lexer": "ipython3",
   "version": "3.12.7"
  }
 },
 "nbformat": 4,
 "nbformat_minor": 5
}
